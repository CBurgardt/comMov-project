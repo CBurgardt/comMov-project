{
 "cells": [
  {
   "cell_type": "markdown",
   "metadata": {},
   "source": [
    "# Importando o que importa (haha)"
   ]
  },
  {
   "cell_type": "code",
   "execution_count": 112,
   "metadata": {},
   "outputs": [],
   "source": [
    "from freeSpace import *\n",
    "from collections import defaultdict\n",
    "import numpy as np\n",
    "import math\n",
    "import pandas as pd\n",
    "from geopy.distance import vincenty\n",
    "#from geopy.distance import great_circle\n",
    "from sklearn.neighbors import KNeighborsRegressor\n",
    "import matplotlib.pyplot as plt"
   ]
  },
  {
   "cell_type": "markdown",
   "metadata": {},
   "source": [
    "# Pegando os Valores de Treinamento"
   ]
  },
  {
   "cell_type": "code",
   "execution_count": 83,
   "metadata": {
    "collapsed": true
   },
   "outputs": [],
   "source": [
    "#Erbs\n",
    "csvErbs = pd.read_csv(\"erbs.csv\")\n",
    "erbsLidas = csvErbs[['lat','lon']].values\n",
    "erbs_posicao = dict()\n",
    "for i in range (1,len(erbsLidas)+1):\n",
    "    erbs_posicao[i] = (erbsLidas[i-1])\n",
    "\n",
    "#Medicoes, dados de treinamento\n",
    "csvMed = pd.read_csv(\"medicoes.csv\")\n",
    "medidas_posicao = csvMed[['lat','lon']].values # Valores em Tupla\n",
    "medidas_potencia = csvMed[[\"RSSI_1\",\"RSSI_2\",\"RSSI_3\",\"RSSI_4\",\"RSSI_5\",\"RSSI_6\"]].values\n",
    "\n",
    "\n"
   ]
  },
  {
   "cell_type": "code",
   "execution_count": 84,
   "metadata": {},
   "outputs": [
    {
     "data": {
      "text/plain": [
       "numpy.ndarray"
      ]
     },
     "execution_count": 84,
     "metadata": {},
     "output_type": "execute_result"
    }
   ],
   "source": [
    "#np.shape(medidas_potencia)\n",
    "type(medidas_potencia[0])"
   ]
  },
  {
   "cell_type": "markdown",
   "metadata": {},
   "source": [
    "# Gera Modelo "
   ]
  },
  {
   "cell_type": "code",
   "execution_count": 85,
   "metadata": {},
   "outputs": [
    {
     "data": {
      "text/plain": [
       "KNeighborsRegressor(algorithm='auto', leaf_size=30, metric='minkowski',\n",
       "          metric_params=None, n_jobs=1, n_neighbors=5, p=2,\n",
       "          weights='distance')"
      ]
     },
     "execution_count": 85,
     "metadata": {},
     "output_type": "execute_result"
    }
   ],
   "source": [
    "#medidas_potencia.values\n",
    "medidas_posicao_lat = csvMed['lat'].values\n",
    "medidas_posicao_lon = csvMed['lon'].values\n",
    "\n",
    "#modela latitude e longitude separadamente\n",
    "neigh_lat = KNeighborsRegressor(n_neighbors=5, weights = 'distance')\n",
    "neigh_lat.fit(medidas_potencia,medidas_posicao_lat )\n",
    "\n",
    "neigh_lon = KNeighborsRegressor(n_neighbors=5, weights = 'distance')\n",
    "neigh_lon.fit(medidas_potencia,medidas_posicao_lon )\n",
    "\n",
    "#neigh_lat.predict([-66.825000,-35.600000,-64.875000,-72.575000,-79.525000,-78.450000])\n",
    "#neigh_lon.predict([-66.825000,-35.600000,-64.875000,-72.575000,-79.525000,-78.450000])\n",
    "#print(neigh_lat.predict([-67.3, -24.7, -73.4, -67.2, -79.26666666, -80.6]))\n",
    "#print(neigh_lon.predict([-67.3, -24.7, -73.4, -67.2, -79.26666666, -80.6]))\n"
   ]
  },
  {
   "cell_type": "markdown",
   "metadata": {},
   "source": [
    "# Pega os Valores de Teste"
   ]
  },
  {
   "cell_type": "code",
   "execution_count": 86,
   "metadata": {
    "collapsed": true
   },
   "outputs": [],
   "source": [
    "\n",
    "csvMedTest = pd.read_csv(\"testLoc.csv\")\n",
    "medidas_posicao_teste = csvMedTest[['lat','lon']].values # Valores em Tupla\n",
    "medidas_potencia_teste = csvMedTest[[\"RSSI_1\",\"RSSI_2\",\"RSSI_3\",\"RSSI_4\",\"RSSI_5\",\"RSSI_6\"]].values    \n"
   ]
  },
  {
   "cell_type": "code",
   "execution_count": 87,
   "metadata": {},
   "outputs": [
    {
     "data": {
      "text/plain": [
       "(200, 2)"
      ]
     },
     "execution_count": 87,
     "metadata": {},
     "output_type": "execute_result"
    }
   ],
   "source": [
    "np.shape(medidas_posicao_teste)"
   ]
  },
  {
   "cell_type": "markdown",
   "metadata": {},
   "source": [
    "# Faz a Predição"
   ]
  },
  {
   "cell_type": "code",
   "execution_count": 88,
   "metadata": {
    "collapsed": true
   },
   "outputs": [],
   "source": [
    "predicao_lat = neigh_lat.predict(medidas_potencia_teste)\n",
    "predicao_lon = neigh_lon.predict(medidas_potencia_teste)"
   ]
  },
  {
   "cell_type": "markdown",
   "metadata": {},
   "source": [
    "# Calcula o Erro"
   ]
  },
  {
   "cell_type": "code",
   "execution_count": 89,
   "metadata": {},
   "outputs": [],
   "source": [
    "vet_err_lat = []\n",
    "vet_err_lon = []\n",
    "for i in range(0,200):\n",
    "    vet_err_lat.append(predicao_lat[i] - medidas_posicao_teste[i][0])\n",
    "    vet_err_lon.append(predicao_lon[i] - medidas_posicao_teste[i][1])\n",
    "\n",
    "err_geral = []\n",
    "for i in range(len(predicao_lat)):\n",
    "    err_geral.append(vincenty((predicao_lat[i],predicao_lon[i]), (medidas_posicao_teste[i][0], medidas_posicao_teste[i][1])).kilometers)\n",
    "\n"
   ]
  },
  {
   "cell_type": "code",
   "execution_count": 110,
   "metadata": {},
   "outputs": [
    {
     "name": "stdout",
     "output_type": "stream",
     "text": [
      "MEDIA LAT = -0.000129606151084\n",
      "MEDIA LON = 0.000734426809705\n",
      "MEDIA KM = 0.144464140931\n"
     ]
    }
   ],
   "source": [
    "print(\"MEDIA LAT = \" + str(np.mean(vet_err_lat)))\n",
    "print(\"MEDIA LON = \" + str(np.mean(vet_err_lon)))\n",
    "print(\"MEDIA KM = \" + str(np.mean(err_geral)))\n"
   ]
  },
  {
   "cell_type": "code",
   "execution_count": 97,
   "metadata": {},
   "outputs": [
    {
     "data": {
      "image/png": "[encoded data removed]",
      "text/plain": [
       "<matplotlib.figure.Figure at 0x23b79530fd0>"
      ]
     },
     "metadata": {},
     "output_type": "display_data"
    }
   ],
   "source": [
    "plt.plot(range(200),err_geral, range(200),[np.mean(err_geral)for i in range(200)])\n",
    "plt.show()"
   ]
  },
  {
   "cell_type": "code",
   "execution_count": 109,
   "metadata": {},
   "outputs": [
    {
     "data": {
      "image/png": "[encoded data removed]",
      "text/plain": [
       "<matplotlib.figure.Figure at 0x23b79758e80>"
      ]
     },
     "metadata": {},
     "output_type": "display_data"
    }
   ],
   "source": [
    "plt.clf()\n",
    "bins = np.linspace(-0.01, 1, 100)\n",
    "plt.hist(err_geral,bins)\n",
    "plt.show()"
   ]
  },
  {
   "cell_type": "code",
   "execution_count": null,
   "metadata": {
    "collapsed": true
   },
   "outputs": [],
   "source": []
  }
 ],
 "metadata": {
  "celltoolbar": "Raw Cell Format",
  "kernelspec": {
   "display_name": "Python 3",
   "language": "python",
   "name": "python3"
  },
  "language_info": {
   "codemirror_mode": {
    "name": "ipython",
    "version": 3
   },
   "file_extension": ".py",
   "mimetype": "text/x-python",
   "name": "python",
   "nbconvert_exporter": "python",
   "pygments_lexer": "ipython3",
   "version": "3.6.2"
  }
 },
 "nbformat": 4,
 "nbformat_minor": 2
}
